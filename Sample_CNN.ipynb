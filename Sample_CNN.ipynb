{
 "cells": [
  {
   "cell_type": "code",
   "execution_count": 1,
   "metadata": {},
   "outputs": [],
   "source": [
    "import os"
   ]
  },
  {
   "cell_type": "code",
   "execution_count": 3,
   "metadata": {},
   "outputs": [],
   "source": [
    "data_dir = \"C:/Users/Emily/Documents/Fall_2020/ML_DS/Sample_Sentinel\""
   ]
  },
  {
   "cell_type": "code",
   "execution_count": 4,
   "metadata": {},
   "outputs": [
    {
     "data": {
      "text/plain": [
       "['.ipynb_checkpoints',\n",
       " 'Idrisi32.lo2',\n",
       " 'Idrisi32.log',\n",
       " 'L1C_T19TBG_A025748_20200527T154252.rst.aux.xml',\n",
       " 'L1C_T19TBG_A025748_20200527T154252.tif',\n",
       " 'Sample_Bing_1.png',\n",
       " 'Sample_Bing_2.png',\n",
       " 'Sample_Sentinel_CNN.ipynb',\n",
       " 'Split1.png',\n",
       " 'Split_1_Samples',\n",
       " 'Testing_Data',\n",
       " 'Training_Data']"
      ]
     },
     "execution_count": 4,
     "metadata": {},
     "output_type": "execute_result"
    }
   ],
   "source": [
    "os.listdir(data_dir)"
   ]
  },
  {
   "cell_type": "code",
   "execution_count": 9,
   "metadata": {},
   "outputs": [],
   "source": [
    "test_path = data_dir + '/Testing_Data/'\n",
    "train_path = data_dir + '/Training_Data/'"
   ]
  },
  {
   "cell_type": "code",
   "execution_count": 10,
   "metadata": {},
   "outputs": [
    {
     "data": {
      "text/plain": [
       "'C:/Users/Emily/Documents/Fall_2020/ML_DS/Sample_Sentinel/Testing_Data/'"
      ]
     },
     "execution_count": 10,
     "metadata": {},
     "output_type": "execute_result"
    }
   ],
   "source": [
    "test_path"
   ]
  },
  {
   "cell_type": "code",
   "execution_count": 11,
   "metadata": {},
   "outputs": [
    {
     "data": {
      "text/plain": [
       "'Split1_54_06.png'"
      ]
     },
     "execution_count": 11,
     "metadata": {},
     "output_type": "execute_result"
    }
   ],
   "source": [
    "os.listdir(train_path + 'Solar')[0]"
   ]
  },
  {
   "cell_type": "code",
   "execution_count": 12,
   "metadata": {},
   "outputs": [],
   "source": [
    "solar_cell = (train_path + 'Solar/' + 'Split1_54_06.png')"
   ]
  },
  {
   "cell_type": "code",
   "execution_count": 15,
   "metadata": {},
   "outputs": [],
   "source": [
    "import matplotlib.pyplot as plt\n",
    "from matplotlib.image import imread"
   ]
  },
  {
   "cell_type": "code",
   "execution_count": 19,
   "metadata": {},
   "outputs": [
    {
     "data": {
      "text/plain": [
       "<matplotlib.image.AxesImage at 0x280e07d7848>"
      ]
     },
     "execution_count": 19,
     "metadata": {},
     "output_type": "execute_result"
    },
    {
     "data": {
      "image/png": "[encoded data removed]",
      "text/plain": [
       "<Figure size 432x288 with 1 Axes>"
      ]
     },
     "metadata": {
      "needs_background": "light"
     },
     "output_type": "display_data"
    }
   ],
   "source": [
    "plt.imshow(imread(solar_cell))"
   ]
  },
  {
   "cell_type": "code",
   "execution_count": 22,
   "metadata": {},
   "outputs": [
    {
     "data": {
      "text/plain": [
       "0.41960785"
      ]
     },
     "execution_count": 22,
     "metadata": {},
     "output_type": "execute_result"
    }
   ],
   "source": [
    "imread(solar_cell).max()"
   ]
  },
  {
   "cell_type": "code",
   "execution_count": 53,
   "metadata": {},
   "outputs": [],
   "source": [
    "from tensorflow.keras.preprocessing.image import ImageDataGenerator\n",
    "image_gen = ImageDataGenerator(rotation_range=20, width_shift_range = 0.1, height_shift_range= 0.1)"
   ]
  },
  {
   "cell_type": "code",
   "execution_count": 54,
   "metadata": {},
   "outputs": [
    {
     "name": "stdout",
     "output_type": "stream",
     "text": [
      "Found 28 images belonging to 2 classes.\n"
     ]
    },
    {
     "data": {
      "text/plain": [
       "<keras_preprocessing.image.directory_iterator.DirectoryIterator at 0x280e1dd8a08>"
      ]
     },
     "execution_count": 54,
     "metadata": {},
     "output_type": "execute_result"
    }
   ],
   "source": [
    "image_gen.flow_from_directory(train_path)"
   ]
  },
  {
   "cell_type": "code",
   "execution_count": 86,
   "metadata": {},
   "outputs": [],
   "source": [
    "from tensorflow.keras.models import Sequential\n",
    "from tensorflow.keras.layers import Dense, Conv2D, MaxPool2D, Dropout, Flatten"
   ]
  },
  {
   "cell_type": "code",
   "execution_count": 222,
   "metadata": {},
   "outputs": [],
   "source": [
    "model = Sequential()\n",
    "\n",
    "model.add(Conv2D(filters = 10, kernel_size = (9,9), activation = 'relu'))\n",
    "model.add(MaxPool2D(pool_size =(2,2)))\n",
    "\n",
    "model.add(Conv2D(filters = 10, kernel_size = (6,6), activation = 'relu'))\n",
    "model.add(MaxPool2D(pool_size =(2,2)))\n",
    "\n",
    "model.add(Conv2D(filters = 10, kernel_size = (9,9), activation = 'relu'))\n",
    "model.add(MaxPool2D(pool_size =(2,2)))\n",
    "\n",
    "model.add(Flatten())\n",
    "model.add(Dense(128, activation = 'relu'))\n",
    "\n",
    "model.add(Dense(1, activation = 'sigmoid'))\n",
    "\n",
    "model.compile(loss='binary_crossentropy', optimizer ='adam', metrics = ['accuracy'])"
   ]
  },
  {
   "cell_type": "code",
   "execution_count": 223,
   "metadata": {},
   "outputs": [],
   "source": [
    "from tensorflow.keras.callbacks import EarlyStopping"
   ]
  },
  {
   "cell_type": "code",
   "execution_count": 224,
   "metadata": {},
   "outputs": [],
   "source": [
    "early_stop = EarlyStopping(monitor='val_loss', patience = 2)"
   ]
  },
  {
   "cell_type": "code",
   "execution_count": 225,
   "metadata": {},
   "outputs": [],
   "source": [
    "#batch_size = 2"
   ]
  },
  {
   "cell_type": "code",
   "execution_count": 226,
   "metadata": {},
   "outputs": [
    {
     "name": "stdout",
     "output_type": "stream",
     "text": [
      "Found 28 images belonging to 2 classes.\n"
     ]
    }
   ],
   "source": [
    "train_image_gen = image_gen.flow_from_directory(train_path, color_mode='grayscale', class_mode = 'binary')"
   ]
  },
  {
   "cell_type": "code",
   "execution_count": 227,
   "metadata": {},
   "outputs": [
    {
     "name": "stdout",
     "output_type": "stream",
     "text": [
      "Found 74 images belonging to 2 classes.\n"
     ]
    }
   ],
   "source": [
    "test_image_gen = image_gen.flow_from_directory(test_path, color_mode='grayscale', batch_size = batch_size, class_mode = 'binary')"
   ]
  },
  {
   "cell_type": "code",
   "execution_count": 228,
   "metadata": {},
   "outputs": [
    {
     "name": "stdout",
     "output_type": "stream",
     "text": [
      "WARNING:tensorflow:sample_weight modes were coerced from\n",
      "  ...\n",
      "    to  \n",
      "  ['...']\n",
      "Train for 1 steps, validate for 37 steps\n",
      "Epoch 1/20\n",
      "1/1 [==============================] - 5s 5s/step - loss: 1.4507 - accuracy: 0.5000 - val_loss: 64.8421 - val_accuracy: 0.5000\n",
      "Epoch 2/20\n",
      "1/1 [==============================] - 4s 4s/step - loss: 61.6555 - accuracy: 0.5000 - val_loss: 22.7334 - val_accuracy: 0.5000\n",
      "Epoch 3/20\n",
      "1/1 [==============================] - 4s 4s/step - loss: 36.1916 - accuracy: 0.5000 - val_loss: 6.6940 - val_accuracy: 0.5000\n",
      "Epoch 4/20\n",
      "1/1 [==============================] - 4s 4s/step - loss: 10.4231 - accuracy: 0.5000 - val_loss: 1.1402 - val_accuracy: 0.2432\n",
      "Epoch 5/20\n",
      "1/1 [==============================] - 4s 4s/step - loss: 0.9973 - accuracy: 0.3214 - val_loss: 2.3338 - val_accuracy: 0.5000\n",
      "Epoch 6/20\n",
      "1/1 [==============================] - 5s 5s/step - loss: 2.3241 - accuracy: 0.5000 - val_loss: 0.5158 - val_accuracy: 0.7568\n",
      "Epoch 7/20\n",
      "1/1 [==============================] - 5s 5s/step - loss: 0.6647 - accuracy: 0.7143 - val_loss: 1.2551 - val_accuracy: 0.5676\n",
      "Epoch 8/20\n",
      "1/1 [==============================] - 5s 5s/step - loss: 1.1069 - accuracy: 0.6429 - val_loss: 0.4567 - val_accuracy: 0.7703\n",
      "Epoch 9/20\n",
      "1/1 [==============================] - 5s 5s/step - loss: 0.4546 - accuracy: 0.7857 - val_loss: 0.6995 - val_accuracy: 0.5946\n",
      "Epoch 10/20\n",
      "1/1 [==============================] - 5s 5s/step - loss: 0.4730 - accuracy: 0.6786 - val_loss: 0.3458 - val_accuracy: 0.9054\n",
      "Epoch 11/20\n",
      "1/1 [==============================] - 4s 4s/step - loss: 0.2905 - accuracy: 0.9286 - val_loss: 0.4776 - val_accuracy: 0.8514\n",
      "Epoch 12/20\n",
      "1/1 [==============================] - 4s 4s/step - loss: 0.3561 - accuracy: 0.9286 - val_loss: 0.5848 - val_accuracy: 0.6757\n"
     ]
    }
   ],
   "source": [
    "results = model.fit_generator(train_image_gen, epochs=20, validation_data=test_image_gen, callbacks = [early_stop])"
   ]
  },
  {
   "cell_type": "code",
   "execution_count": 229,
   "metadata": {},
   "outputs": [],
   "source": [
    "pred = model.predict_generator(test_image_gen)"
   ]
  },
  {
   "cell_type": "code",
   "execution_count": 236,
   "metadata": {},
   "outputs": [],
   "source": [
    "predictions = pred > 0.40"
   ]
  },
  {
   "cell_type": "code",
   "execution_count": 237,
   "metadata": {},
   "outputs": [],
   "source": [
    "from sklearn.metrics import classification_report, confusion_matrix"
   ]
  },
  {
   "cell_type": "code",
   "execution_count": 238,
   "metadata": {},
   "outputs": [
    {
     "name": "stdout",
     "output_type": "stream",
     "text": [
      "[[19 18]\n",
      " [20 17]]\n"
     ]
    }
   ],
   "source": [
    "print (confusion_matrix(test_image_gen.classes, predictions))"
   ]
  },
  {
   "cell_type": "code",
   "execution_count": 239,
   "metadata": {},
   "outputs": [],
   "source": [
    "import numpy as np\n",
    "names = test_image_gen.filenames\n",
    "names = np.array(names)\n",
    "names = np.ndarray.flatten(names)\n",
    "classes = test_image_gen.classes\n",
    "classes = np.array(classes)\n",
    "classes = np.ndarray.flatten(classes)\n",
    "predictions = np.array(predictions)\n",
    "predictions = np.ndarray.flatten(predictions)"
   ]
  },
  {
   "cell_type": "code",
   "execution_count": 240,
   "metadata": {},
   "outputs": [
    {
     "name": "stdout",
     "output_type": "stream",
     "text": [
      "                     FileName  Classes  Predictions\n",
      "0   NotSolar\\Split1_01_02.png        0         True\n",
      "1   NotSolar\\Split1_01_08.png        0         True\n",
      "2   NotSolar\\Split1_01_13.png        0         True\n",
      "3   NotSolar\\Split1_01_16.png        0         True\n",
      "4   NotSolar\\Split1_01_20.png        0         True\n",
      "..                        ...      ...          ...\n",
      "69     Solar\\Split1_63_11.png        1         True\n",
      "70     Solar\\Split1_64_09.png        1         True\n",
      "71     Solar\\Split1_64_10.png        1        False\n",
      "72     Solar\\Split1_65_09.png        1         True\n",
      "73     Solar\\Split1_65_10.png        1        False\n",
      "\n",
      "[74 rows x 3 columns]\n"
     ]
    }
   ],
   "source": [
    "d = {'FileName': names, 'Classes': classes, 'Predictions': predictions}\n",
    "\n",
    "import pandas as pd\n",
    "data = pd.DataFrame(data=d)\n",
    "print (data)"
   ]
  },
  {
   "cell_type": "code",
   "execution_count": null,
   "metadata": {},
   "outputs": [],
   "source": []
  }
 ],
 "metadata": {
  "kernelspec": {
   "display_name": "Python 3",
   "language": "python",
   "name": "python3"
  },
  "language_info": {
   "name": ""
  }
 },
 "nbformat": 4,
 "nbformat_minor": 4
}
